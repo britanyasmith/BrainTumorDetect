{
 "cells": [
  {
   "attachments": {},
   "cell_type": "markdown",
   "metadata": {},
   "source": [
    "## Install the necessary packages"
   ]
  },
  {
   "cell_type": "code",
   "execution_count": 3,
   "metadata": {},
   "outputs": [],
   "source": [
    "import torch\n",
    "import torchvision.transforms as transforms  # transform data\n",
    "from torch.utils.data import DataLoader  # create the DataLoader class\n",
    "\n",
    "from dataPreprocessing import FunctionalTransforms, TumorDataset\n",
    "from model import TumorDetectModel, fit, predicting\n",
    "from supportFuncs import (mean_std_check, plot_accuracies, plot_cf_matrix,\n",
    "                          plot_losses, visualize)\n",
    "\n",
    "from sklearn.metrics import classification_report, confusion_matrix"
   ]
  },
  {
   "attachments": {},
   "cell_type": "markdown",
   "metadata": {},
   "source": [
    "## Initialize the parameters"
   ]
  },
  {
   "cell_type": "code",
   "execution_count": 4,
   "metadata": {},
   "outputs": [],
   "source": [
    "IMG_PATH = \"tumor_dataset/\"\n",
    "CLASS_MAP = {\"glioma_tumor\": 0, \n",
    "\t\t\t\"meningioma_tumor\": 1,\n",
    "\t\t\t\"no_tumor\": 2, \n",
    "            \"pituitary_tumor\": 3}\n",
    "IMG_DIM = 300\n",
    "NUM_WORKERS = 2\n",
    "MEASURES = {\"mean\": 0.1794,\n",
    "            \"std\":  0.1885}\n",
    "TRAIN_SPLIT = 0.75\n",
    "\n",
    "BATCH_SIZE = 4\n",
    "NUM_EPOCHS = 50\n",
    "NUM_CHANNELS = 3\n",
    "LEARNING_RATE = 0.001\n",
    "MOMENTUM = 0\n",
    "WEIGHT_DECAY = 0\n",
    "NUM_CLASSES = 4\n",
    "OPT_FUNC = torch.optim.Adam\n",
    "\n",
    "TRANSFORM = transforms.Compose([    #https://pytorch.org/vision/stable/transforms.html \n",
    "    transforms.ToTensor(),  #numpy to tensor object\n",
    "    transforms.Resize((IMG_DIM, IMG_DIM)),  #reshape the image \n",
    "    transforms.RandomHorizontalFlip(p=0.5),   #flipping the image with probability of flipping = 0.5\n",
    "    FunctionalTransforms(angle=30, sharpness_factor=2, contrast_factor=2, brightness_factor=1), #Functional Tranforms for the images \n",
    "    transforms.Normalize(mean= (MEASURES['mean'], MEASURES['mean'], MEASURES['mean']), \n",
    "                         std=(MEASURES['std'], MEASURES['std'], MEASURES['std']))#Reduces skewness by making mean = 0, std = 1 -> (x-mean)/std\n",
    "    \n",
    "    ])"
   ]
  },
  {
   "attachments": {},
   "cell_type": "markdown",
   "metadata": {},
   "source": [
    "## Loading the dataset and Preprocessing"
   ]
  },
  {
   "cell_type": "code",
   "execution_count": 6,
   "metadata": {},
   "outputs": [],
   "source": [
    "traindataset = TumorDataset(img_path=IMG_PATH, \n",
    "                        class_map=CLASS_MAP, \n",
    "                        train=True, \n",
    "                        img_dim=IMG_DIM, \n",
    "                        transform = TRANSFORM)  #initialize the train set \n",
    "\n",
    "trainset, validationset = torch.utils.data.random_split(traindataset, [TRAIN_SPLIT, 1-TRAIN_SPLIT]) #split the training set\n",
    "\n",
    "testset = TumorDataset(img_path=IMG_PATH, \n",
    "                        class_map=CLASS_MAP, \n",
    "                        train=False, \n",
    "                        img_dim=IMG_DIM, \n",
    "                        transform = TRANSFORM)  #initialize the test set \n",
    "\n",
    "trainloader = DataLoader(trainset, \n",
    "                         batch_size=BATCH_SIZE, \n",
    "                         shuffle=True, \n",
    "                         num_workers=NUM_WORKERS)   #Load the train data and create batches from them\n",
    " \n",
    "valloader = DataLoader(validationset, \n",
    "                         batch_size=BATCH_SIZE, \n",
    "                         shuffle=True, \n",
    "                         num_workers=NUM_WORKERS)   #Load the validation data and create batches from them \n",
    "\n",
    "testloader = DataLoader(testset, \n",
    "                         batch_size=BATCH_SIZE, \n",
    "                         shuffle=True, \n",
    "                         num_workers=NUM_WORKERS)"
   ]
  }
 ],
 "metadata": {
  "kernelspec": {
   "display_name": "base",
   "language": "python",
   "name": "python3"
  },
  "language_info": {
   "codemirror_mode": {
    "name": "ipython",
    "version": 3
   },
   "file_extension": ".py",
   "mimetype": "text/x-python",
   "name": "python",
   "nbconvert_exporter": "python",
   "pygments_lexer": "ipython3",
   "version": "3.9.16"
  },
  "orig_nbformat": 4
 },
 "nbformat": 4,
 "nbformat_minor": 2
}
